{
 "cells": [
  {
   "cell_type": "markdown",
   "metadata": {},
   "source": [
    "# Investigative Data Set\n",
    "\n",
    "### The RMS Titanic Data Set\n",
    "\n",
    "The sinking of the RMS Titanic is one of the most infamous shipwrecks in history.  On April 15, 1912, during her maiden voyage, the Titanic sank after colliding with an iceberg, killing 1502 out of 2224 passengers and crew. This sensational tragedy shocked the international community and led to better safety regulations for ships.\n",
    "\n",
    "The goal of this data analysis will be to answer two primary questions-- 1) Did a passenger's socio-economic status have an affect on their chance of survival? 2) Did a person's gender and age have an affect on their chance of survival?\n",
    "\n"
   ]
  },
  {
   "cell_type": "code",
   "execution_count": 1,
   "metadata": {
    "collapsed": true
   },
   "outputs": [],
   "source": [
    "import pandas as pd\n",
    "import numpy as np\n",
    "import matplotlib.pyplot as plt\n",
    "import seaborn as sns\n",
    "%matplotlib inline"
   ]
  },
  {
   "cell_type": "markdown",
   "metadata": {},
   "source": [
    "## Wrangle The Data\n",
    "\n",
    "Start by reading in the titanic_train.csv file into a pandas dataframe."
   ]
  },
  {
   "cell_type": "code",
   "execution_count": 2,
   "metadata": {
    "collapsed": false
   },
   "outputs": [
    {
     "name": "stdout",
     "output_type": "stream",
     "text": [
      "\n",
      "\n",
      "Imported Dataset\n"
     ]
    },
    {
     "data": {
      "text/html": [
       "<div>\n",
       "<style>\n",
       "    .dataframe thead tr:only-child th {\n",
       "        text-align: right;\n",
       "    }\n",
       "\n",
       "    .dataframe thead th {\n",
       "        text-align: left;\n",
       "    }\n",
       "\n",
       "    .dataframe tbody tr th {\n",
       "        vertical-align: top;\n",
       "    }\n",
       "</style>\n",
       "<table border=\"1\" class=\"dataframe\">\n",
       "  <thead>\n",
       "    <tr style=\"text-align: right;\">\n",
       "      <th></th>\n",
       "      <th>PassengerId</th>\n",
       "      <th>Survived</th>\n",
       "      <th>Pclass</th>\n",
       "      <th>Name</th>\n",
       "      <th>Sex</th>\n",
       "      <th>Age</th>\n",
       "      <th>SibSp</th>\n",
       "      <th>Parch</th>\n",
       "      <th>Ticket</th>\n",
       "      <th>Fare</th>\n",
       "      <th>Cabin</th>\n",
       "      <th>Embarked</th>\n",
       "    </tr>\n",
       "  </thead>\n",
       "  <tbody>\n",
       "    <tr>\n",
       "      <th>0</th>\n",
       "      <td>1</td>\n",
       "      <td>0</td>\n",
       "      <td>3</td>\n",
       "      <td>Braund, Mr. Owen Harris</td>\n",
       "      <td>male</td>\n",
       "      <td>22.0</td>\n",
       "      <td>1</td>\n",
       "      <td>0</td>\n",
       "      <td>A/5 21171</td>\n",
       "      <td>7.2500</td>\n",
       "      <td>NaN</td>\n",
       "      <td>S</td>\n",
       "    </tr>\n",
       "    <tr>\n",
       "      <th>1</th>\n",
       "      <td>2</td>\n",
       "      <td>1</td>\n",
       "      <td>1</td>\n",
       "      <td>Cumings, Mrs. John Bradley (Florence Briggs Th...</td>\n",
       "      <td>female</td>\n",
       "      <td>38.0</td>\n",
       "      <td>1</td>\n",
       "      <td>0</td>\n",
       "      <td>PC 17599</td>\n",
       "      <td>71.2833</td>\n",
       "      <td>C85</td>\n",
       "      <td>C</td>\n",
       "    </tr>\n",
       "    <tr>\n",
       "      <th>2</th>\n",
       "      <td>3</td>\n",
       "      <td>1</td>\n",
       "      <td>3</td>\n",
       "      <td>Heikkinen, Miss. Laina</td>\n",
       "      <td>female</td>\n",
       "      <td>26.0</td>\n",
       "      <td>0</td>\n",
       "      <td>0</td>\n",
       "      <td>STON/O2. 3101282</td>\n",
       "      <td>7.9250</td>\n",
       "      <td>NaN</td>\n",
       "      <td>S</td>\n",
       "    </tr>\n",
       "    <tr>\n",
       "      <th>3</th>\n",
       "      <td>4</td>\n",
       "      <td>1</td>\n",
       "      <td>1</td>\n",
       "      <td>Futrelle, Mrs. Jacques Heath (Lily May Peel)</td>\n",
       "      <td>female</td>\n",
       "      <td>35.0</td>\n",
       "      <td>1</td>\n",
       "      <td>0</td>\n",
       "      <td>113803</td>\n",
       "      <td>53.1000</td>\n",
       "      <td>C123</td>\n",
       "      <td>S</td>\n",
       "    </tr>\n",
       "    <tr>\n",
       "      <th>4</th>\n",
       "      <td>5</td>\n",
       "      <td>0</td>\n",
       "      <td>3</td>\n",
       "      <td>Allen, Mr. William Henry</td>\n",
       "      <td>male</td>\n",
       "      <td>35.0</td>\n",
       "      <td>0</td>\n",
       "      <td>0</td>\n",
       "      <td>373450</td>\n",
       "      <td>8.0500</td>\n",
       "      <td>NaN</td>\n",
       "      <td>S</td>\n",
       "    </tr>\n",
       "  </tbody>\n",
       "</table>\n",
       "</div>"
      ],
      "text/plain": [
       "   PassengerId  Survived  Pclass  \\\n",
       "0            1         0       3   \n",
       "1            2         1       1   \n",
       "2            3         1       3   \n",
       "3            4         1       1   \n",
       "4            5         0       3   \n",
       "\n",
       "                                                Name     Sex   Age  SibSp  \\\n",
       "0                            Braund, Mr. Owen Harris    male  22.0      1   \n",
       "1  Cumings, Mrs. John Bradley (Florence Briggs Th...  female  38.0      1   \n",
       "2                             Heikkinen, Miss. Laina  female  26.0      0   \n",
       "3       Futrelle, Mrs. Jacques Heath (Lily May Peel)  female  35.0      1   \n",
       "4                           Allen, Mr. William Henry    male  35.0      0   \n",
       "\n",
       "   Parch            Ticket     Fare Cabin Embarked  \n",
       "0      0         A/5 21171   7.2500   NaN        S  \n",
       "1      0          PC 17599  71.2833   C85        C  \n",
       "2      0  STON/O2. 3101282   7.9250   NaN        S  \n",
       "3      0            113803  53.1000  C123        S  \n",
       "4      0            373450   8.0500   NaN        S  "
      ]
     },
     "execution_count": 2,
     "metadata": {},
     "output_type": "execute_result"
    }
   ],
   "source": [
    "#import data set\n",
    "print(\"\\n\")\n",
    "print(\"Imported Dataset\")\n",
    "train = pd.read_csv('titanic_train.csv')\n",
    "train.head()"
   ]
  },
  {
   "cell_type": "markdown",
   "metadata": {},
   "source": [
    "### Missing Data\n",
    "\n",
    "\n",
    "I will use the Seaborn Library to create a simple heatmap to see if there is missing data."
   ]
  },
  {
   "cell_type": "code",
   "execution_count": 3,
   "metadata": {
    "collapsed": false
   },
   "outputs": [
    {
     "data": {
      "text/plain": [
       "<matplotlib.text.Text at 0x11bc55ef0>"
      ]
     },
     "execution_count": 3,
     "metadata": {},
     "output_type": "execute_result"
    },
    {
     "data": {
      "image/png": "[encoded data removed]",
      "text/plain": [
       "<matplotlib.figure.Figure at 0x11ba60d30>"
      ]
     },
     "metadata": {},
     "output_type": "display_data"
    }
   ],
   "source": [
    "#missing data will appear in yellow\n",
    "g = sns.heatmap(train.isnull(),yticklabels=False,cbar=False,cmap='viridis')\n",
    "g.axes.set_title('Heatmap of Missing Data', fontsize=16)"
   ]
  },
  {
   "cell_type": "markdown",
   "metadata": {},
   "source": [
    "Figure represents missing data in yellow. It appears ~20% of the Age data is missing. The proportion of Age missing is likely small enough for reasonable replacement with some form of imputation, however, the Cabin column is missing too much data for it be useful information. "
   ]
  },
  {
   "cell_type": "markdown",
   "metadata": {},
   "source": [
    "### Clean the Data\n",
    "I want to fill in the missing age data instead of dropping the missing age data rows. I'm going to accomplish this by filling in the mean age of all the passengers (imputation) based on the average age by passenger class."
   ]
  },
  {
   "cell_type": "code",
   "execution_count": 4,
   "metadata": {
    "collapsed": false
   },
   "outputs": [
    {
     "data": {
      "text/plain": [
       "<matplotlib.text.Text at 0x11bafc390>"
      ]
     },
     "execution_count": 4,
     "metadata": {},
     "output_type": "execute_result"
    },
    {
     "data": {
      "image/png": "[encoded data removed]",
      "text/plain": [
       "<matplotlib.figure.Figure at 0x11bba75c0>"
      ]
     },
     "metadata": {},
     "output_type": "display_data"
    }
   ],
   "source": [
    "#Boxplot of Class vs Age\n",
    "plt.figure(figsize=(12, 7))\n",
    "g = sns.boxplot(x='Pclass',y='Age',data=train,palette='rainbow')\n",
    "g.axes.set_title('Boxplot of Passenger Age vs Class Data', fontsize=24)"
   ]
  },
  {
   "cell_type": "markdown",
   "metadata": {},
   "source": [
    "Boxplot representing the passenger age as a function of the passenger class data. The main objective of this visualization is to get a mean age for the various passenger class and use that information to make a better imputation in our data cleaning stage. As you can see, the wealthier passengers in the higher classes tend to be older, which makes sense. The averge ages based on class are as follows: 1st=~37, 2nd=~29, 3rd=~24."
   ]
  },
  {
   "cell_type": "code",
   "execution_count": 5,
   "metadata": {
    "collapsed": false
   },
   "outputs": [
    {
     "data": {
      "text/plain": [
       "<matplotlib.text.Text at 0x11bfab710>"
      ]
     },
     "execution_count": 5,
     "metadata": {},
     "output_type": "execute_result"
    },
    {
     "data": {
      "image/png": "[encoded data removed]",
      "text/plain": [
       "<matplotlib.figure.Figure at 0x11bdb0b00>"
      ]
     },
     "metadata": {},
     "output_type": "display_data"
    }
   ],
   "source": [
    "#Plot of Age vs Pclass\n",
    "plt.figure(figsize=(12, 7))\n",
    "g = sns.swarmplot(x='Pclass',y='Age',data=train,palette='winter')\n",
    "g.axes.set_title('Passenger Age vs Class', fontsize=16)"
   ]
  },
  {
   "cell_type": "markdown",
   "metadata": {},
   "source": [
    "The visualization represents the distribution of passengers based on their age and passenger class. As you can see, their is larger number of older, wealthier passengers in the 1st class and 2nd classes while the youngest population on board the Titanic were in the 3rd class. Also of note, the 3rd class contains the majority of childeren 10 and under. "
   ]
  },
  {
   "cell_type": "code",
   "execution_count": 6,
   "metadata": {
    "collapsed": true
   },
   "outputs": [],
   "source": [
    "#Imputation to fill in the missing data\n",
    "\n",
    "def impute_age(cols):\n",
    "    Age = cols[0]\n",
    "    Pclass = cols[1]\n",
    "    \n",
    "    if pd.isnull(Age):\n",
    "\n",
    "        if Pclass == 1:\n",
    "            return 37\n",
    "\n",
    "        elif Pclass == 2:\n",
    "            return 29\n",
    "\n",
    "        else:\n",
    "            return 24\n",
    "\n",
    "    else:\n",
    "        return Age"
   ]
  },
  {
   "cell_type": "code",
   "execution_count": 7,
   "metadata": {
    "collapsed": true
   },
   "outputs": [],
   "source": [
    "train['Age'] = train[['Age','Pclass']].apply(impute_age,axis=1)"
   ]
  },
  {
   "cell_type": "code",
   "execution_count": 8,
   "metadata": {
    "collapsed": false
   },
   "outputs": [
    {
     "data": {
      "text/plain": [
       "<matplotlib.text.Text at 0x11c189160>"
      ]
     },
     "execution_count": 8,
     "metadata": {},
     "output_type": "execute_result"
    },
    {
     "data": {
      "image/png": "[encoded data removed]",
      "text/plain": [
       "<matplotlib.figure.Figure at 0x11bf809b0>"
      ]
     },
     "metadata": {},
     "output_type": "display_data"
    }
   ],
   "source": [
    "#missing data will appear in yellow\n",
    "g = sns.heatmap(train.isnull(),yticklabels=False,cbar=False,cmap='viridis')\n",
    "g.axes.set_title('Heatmap of Missing Data', fontsize=16)"
   ]
  },
  {
   "cell_type": "markdown",
   "metadata": {},
   "source": [
    "Figure represents missing data in yellow. As you can see, there is no more missing Age data, now I will drop the Cabin column and the NaN value in the Embarked column."
   ]
  },
  {
   "cell_type": "code",
   "execution_count": 9,
   "metadata": {
    "collapsed": true
   },
   "outputs": [],
   "source": [
    "train.drop('Cabin',axis=1,inplace=True)"
   ]
  },
  {
   "cell_type": "code",
   "execution_count": 10,
   "metadata": {
    "collapsed": true
   },
   "outputs": [],
   "source": [
    "train.dropna(inplace=True)"
   ]
  },
  {
   "cell_type": "code",
   "execution_count": 11,
   "metadata": {
    "collapsed": false
   },
   "outputs": [
    {
     "data": {
      "text/plain": [
       "<matplotlib.text.Text at 0x11c212ef0>"
      ]
     },
     "execution_count": 11,
     "metadata": {},
     "output_type": "execute_result"
    },
    {
     "data": {
      "image/png": "[encoded data removed]",
      "text/plain": [
       "<matplotlib.figure.Figure at 0x11c1c6160>"
      ]
     },
     "metadata": {},
     "output_type": "display_data"
    }
   ],
   "source": [
    "g = sns.heatmap(train.isnull(),yticklabels=False,cbar=False,cmap='viridis')\n",
    "g.axes.set_title('Heatmap of Missing Data', fontsize=16)"
   ]
  },
  {
   "cell_type": "markdown",
   "metadata": {},
   "source": [
    "Figure will present missing data in yellow. As you can see there are no yellow values which means that there are no missing values in the dataset. We can now move on to the data analysis phase. "
   ]
  },
  {
   "cell_type": "markdown",
   "metadata": {},
   "source": [
    "## Exploratory Data Analysis"
   ]
  },
  {
   "cell_type": "code",
   "execution_count": 12,
   "metadata": {
    "collapsed": false
   },
   "outputs": [
    {
     "data": {
      "text/plain": [
       "<matplotlib.legend.Legend at 0x11c2003c8>"
      ]
     },
     "execution_count": 12,
     "metadata": {},
     "output_type": "execute_result"
    },
    {
     "data": {
      "image/png": "[encoded data removed]",
      "text/plain": [
       "<matplotlib.figure.Figure at 0x11c1df5c0>"
      ]
     },
     "metadata": {},
     "output_type": "display_data"
    }
   ],
   "source": [
    "## Gender demographics as a function of Passenger Class\n",
    "sns.set_style('whitegrid')\n",
    "plt.figure(figsize=(8, 5))\n",
    "g = sns.countplot(x='Pclass',hue='Sex',data=train,palette='rainbow')\n",
    "g.axes.set_title('Gender demographics as a function of Pclass', fontsize=18)\n",
    "g.legend(loc=2)"
   ]
  },
  {
   "cell_type": "markdown",
   "metadata": {},
   "source": [
    "Visualization of the gender demographics as a function of the Passenger Class. As you can see the majority of the passengers were located in the 3rd class. Within the 3rd class, there were nearly 2.3x as many men as there were women. "
   ]
  },
  {
   "cell_type": "code",
   "execution_count": 13,
   "metadata": {
    "collapsed": false
   },
   "outputs": [
    {
     "name": "stdout",
     "output_type": "stream",
     "text": [
      "\n",
      "\n",
      "Passenger Count as a function of gender:\n"
     ]
    },
    {
     "data": {
      "image/png": "[encoded data removed]",
      "text/plain": [
       "<matplotlib.figure.Figure at 0x11c4f6390>"
      ]
     },
     "metadata": {},
     "output_type": "display_data"
    }
   ],
   "source": [
    "#graph of survival count as a function of gender\n",
    "print(\"\\n\")\n",
    "print(\"Passenger Count as a function of gender:\")\n",
    "g = sns.factorplot('Survived', col='Sex', data=train, kind='count', size=5,alpha=.8,palette='rainbow')\n",
    "g.fig.subplots_adjust(top=0.9)\n",
    "(g.set_axis_labels('Survived', 'Passenger Count')).set_xticklabels([\"No\", \"Yes\"])\n",
    "\n",
    "titles = ['Men', 'Women']\n",
    "for ax, title in zip(g.axes.flat, titles):\n",
    "    ax.set_title(title)\n"
   ]
  },
  {
   "cell_type": "markdown",
   "metadata": {},
   "source": [
    "This visualization is a representation of the survival count based on gender demographics. As you can see, most men did not survive the accident while ~2/3 of the women on board did survive.  "
   ]
  },
  {
   "cell_type": "code",
   "execution_count": 14,
   "metadata": {
    "collapsed": false,
    "scrolled": true
   },
   "outputs": [
    {
     "name": "stdout",
     "output_type": "stream",
     "text": [
      "\n",
      "\n",
      "Passenger Count as a function of Passenger Class:\n"
     ]
    },
    {
     "data": {
      "image/png": "[encoded data removed]",
      "text/plain": [
       "<matplotlib.figure.Figure at 0x11c357860>"
      ]
     },
     "metadata": {},
     "output_type": "display_data"
    }
   ],
   "source": [
    "#Graph of Survival Count vs Passenger Class\n",
    "print('\\n')\n",
    "print(\"Passenger Count as a function of Passenger Class:\")\n",
    "g = sns.factorplot('Survived', col='Pclass', data=train, kind='count', size=4,alpha=.8,palette='rainbow')\n",
    "g.fig.subplots_adjust(top=0.9)\n",
    "(g.set_axis_labels('Survived', 'Passenger Count')).set_xticklabels([\"No\", \"Yes\"])\n",
    "\n",
    "titles = ['1st Class', '2nd Class', '3rd Class']\n",
    "for ax, title in zip(g.axes.flat, titles):\n",
    "    ax.set_title(title)"
   ]
  },
  {
   "cell_type": "markdown",
   "metadata": {},
   "source": [
    "This visualization is a representation of the survival count as a function of the passenger class. As you can see, more people survived than died in the 1st Class. Passengers in the 2nd class had the majority of people died in the 3rd class."
   ]
  },
  {
   "cell_type": "code",
   "execution_count": 15,
   "metadata": {
    "collapsed": false
   },
   "outputs": [
    {
     "name": "stdout",
     "output_type": "stream",
     "text": [
      "\n",
      "\n",
      "Passenger Count as a function of Class and Gender:\n"
     ]
    },
    {
     "data": {
      "image/png": "[encoded data removed]",
      "text/plain": [
       "<matplotlib.figure.Figure at 0x11bf9f5f8>"
      ]
     },
     "metadata": {},
     "output_type": "display_data"
    }
   ],
   "source": [
    "#Passenger survival count as a function of class and gender\n",
    "print('\\n')\n",
    "print(\"Passenger Count as a function of Class and Gender:\")\n",
    "g = sns.factorplot('Survived', col='Sex', hue='Pclass', data=train, kind='count',size=5,palette='rainbow')\n",
    "g.fig.subplots_adjust(top=0.9)\n",
    "(g.set_axis_labels('Survived', 'Passenger Count')).set_xticklabels([\"No\", \"Yes\"])\n",
    "\n",
    "\n",
    "titles = ['Men', 'Women']\n",
    "for ax, title in zip(g.axes.flat, titles):\n",
    "    ax.set_title(title)"
   ]
  },
  {
   "cell_type": "markdown",
   "metadata": {},
   "source": [
    "Visualization is a representation of the survival count categorized by gender and class. Notice the number of men in the 3rd class who did not survive the tragedy. Women in the 3rd class also had the lowest survival count.  "
   ]
  },
  {
   "cell_type": "code",
   "execution_count": 16,
   "metadata": {
    "collapsed": false
   },
   "outputs": [
    {
     "name": "stdout",
     "output_type": "stream",
     "text": [
      "\n",
      "\n",
      "Distribution of Age as a function of Gender: \n"
     ]
    },
    {
     "data": {
      "image/png": "[encoded data removed]",
      "text/plain": [
       "<matplotlib.figure.Figure at 0x11ce27048>"
      ]
     },
     "metadata": {},
     "output_type": "display_data"
    }
   ],
   "source": [
    "#Distribution of ages as a funtion of gender\n",
    "print('\\n')\n",
    "print(\"Distribution of Age as a function of Gender: \")\n",
    "g = sns.FacetGrid(data=train,col='Sex',size=5,palette='rainbow')\n",
    "g.map(plt.hist,'Age', alpha=0.6)\n",
    "\n",
    "titles = ['Men', 'Women']\n",
    "for ax, title in zip(g.axes.flat, titles):\n",
    "    ax.set_title(title)"
   ]
  },
  {
   "cell_type": "markdown",
   "metadata": {},
   "source": [
    "This visualization is a continuous distribution plot of passenger age categorized by gender. As you can see, there were a lot more men aboard the Titanic than women. The vast majority of men were aged between 19-35, while the women on board had a normal distribution with a mean of ~20-23 years of age."
   ]
  },
  {
   "cell_type": "code",
   "execution_count": 17,
   "metadata": {
    "collapsed": false
   },
   "outputs": [
    {
     "name": "stdout",
     "output_type": "stream",
     "text": [
      "\n",
      "\n",
      "Distribution of Fare Price:\n"
     ]
    },
    {
     "data": {
      "text/plain": [
       "<matplotlib.text.Text at 0x11f8e7668>"
      ]
     },
     "execution_count": 17,
     "metadata": {},
     "output_type": "execute_result"
    },
    {
     "data": {
      "image/png": "[encoded data removed]",
      "text/plain": [
       "<matplotlib.figure.Figure at 0x11c4df0f0>"
      ]
     },
     "metadata": {},
     "output_type": "display_data"
    }
   ],
   "source": [
    "#Frequency of Fare Price\n",
    "print(\"\\n\")\n",
    "print(\"Distribution of Fare Price:\")\n",
    "sns.set_style('whitegrid')\n",
    "plt.figure(figsize=(10, 8))\n",
    "g= sns.distplot(train['Fare'].dropna(),kde=False,color='darkblue',bins=100)\n",
    "g.axes.set_title('Fare Price', fontsize=14) "
   ]
  },
  {
   "cell_type": "markdown",
   "metadata": {},
   "source": [
    "This visualization represents a frequencey plot as a function of fare price. As you can see, the majority tickets were  between 10-80 dollars with the vast majority of tickets purchased for $10!"
   ]
  },
  {
   "cell_type": "markdown",
   "metadata": {},
   "source": [
    "# Descriptive Statistical Analysis"
   ]
  },
  {
   "cell_type": "code",
   "execution_count": 18,
   "metadata": {
    "collapsed": false
   },
   "outputs": [
    {
     "name": "stdout",
     "output_type": "stream",
     "text": [
      "\n",
      "\n",
      "Descriptive statistics based on Survived, Pclass and Age data:\n"
     ]
    },
    {
     "data": {
      "text/html": [
       "<div>\n",
       "<style>\n",
       "    .dataframe thead tr:only-child th {\n",
       "        text-align: right;\n",
       "    }\n",
       "\n",
       "    .dataframe thead th {\n",
       "        text-align: left;\n",
       "    }\n",
       "\n",
       "    .dataframe tbody tr th {\n",
       "        vertical-align: top;\n",
       "    }\n",
       "</style>\n",
       "<table border=\"1\" class=\"dataframe\">\n",
       "  <thead>\n",
       "    <tr style=\"text-align: right;\">\n",
       "      <th></th>\n",
       "      <th>Survived</th>\n",
       "      <th>Pclass</th>\n",
       "      <th>Age</th>\n",
       "    </tr>\n",
       "  </thead>\n",
       "  <tbody>\n",
       "    <tr>\n",
       "      <th>count</th>\n",
       "      <td>889.000000</td>\n",
       "      <td>889.000000</td>\n",
       "      <td>889.000000</td>\n",
       "    </tr>\n",
       "    <tr>\n",
       "      <th>mean</th>\n",
       "      <td>0.382452</td>\n",
       "      <td>2.311586</td>\n",
       "      <td>29.019314</td>\n",
       "    </tr>\n",
       "    <tr>\n",
       "      <th>std</th>\n",
       "      <td>0.486260</td>\n",
       "      <td>0.834700</td>\n",
       "      <td>13.209814</td>\n",
       "    </tr>\n",
       "    <tr>\n",
       "      <th>min</th>\n",
       "      <td>0.000000</td>\n",
       "      <td>1.000000</td>\n",
       "      <td>0.420000</td>\n",
       "    </tr>\n",
       "    <tr>\n",
       "      <th>25%</th>\n",
       "      <td>0.000000</td>\n",
       "      <td>2.000000</td>\n",
       "      <td>22.000000</td>\n",
       "    </tr>\n",
       "    <tr>\n",
       "      <th>50%</th>\n",
       "      <td>0.000000</td>\n",
       "      <td>3.000000</td>\n",
       "      <td>26.000000</td>\n",
       "    </tr>\n",
       "    <tr>\n",
       "      <th>75%</th>\n",
       "      <td>1.000000</td>\n",
       "      <td>3.000000</td>\n",
       "      <td>36.500000</td>\n",
       "    </tr>\n",
       "    <tr>\n",
       "      <th>max</th>\n",
       "      <td>1.000000</td>\n",
       "      <td>3.000000</td>\n",
       "      <td>80.000000</td>\n",
       "    </tr>\n",
       "  </tbody>\n",
       "</table>\n",
       "</div>"
      ],
      "text/plain": [
       "         Survived      Pclass         Age\n",
       "count  889.000000  889.000000  889.000000\n",
       "mean     0.382452    2.311586   29.019314\n",
       "std      0.486260    0.834700   13.209814\n",
       "min      0.000000    1.000000    0.420000\n",
       "25%      0.000000    2.000000   22.000000\n",
       "50%      0.000000    3.000000   26.000000\n",
       "75%      1.000000    3.000000   36.500000\n",
       "max      1.000000    3.000000   80.000000"
      ]
     },
     "execution_count": 18,
     "metadata": {},
     "output_type": "execute_result"
    }
   ],
   "source": [
    "# Descriptive statistics\n",
    "print('\\n')\n",
    "print(\"Descriptive statistics based on Survived, Pclass and Age data:\")\n",
    "survival_stats= train.drop(['PassengerId','Name','Ticket','Fare','Embarked','SibSp','Parch'], axis=1)\n",
    "survival_stats.describe()"
   ]
  },
  {
   "cell_type": "markdown",
   "metadata": {},
   "source": [
    "This table represents the continuous variable characteristics for the passenger survival data. As you can see, there are 889 points in the dataset, 38% of the passengers survived, the mean age among the survivors was 29 years old."
   ]
  },
  {
   "cell_type": "code",
   "execution_count": 19,
   "metadata": {
    "collapsed": false
   },
   "outputs": [
    {
     "name": "stdout",
     "output_type": "stream",
     "text": [
      "\n",
      "\n",
      "Descriptive Statistics based on Class, Survived and Gender:\n"
     ]
    },
    {
     "data": {
      "text/html": [
       "<div>\n",
       "<style>\n",
       "    .dataframe thead tr:only-child th {\n",
       "        text-align: right;\n",
       "    }\n",
       "\n",
       "    .dataframe thead th {\n",
       "        text-align: left;\n",
       "    }\n",
       "\n",
       "    .dataframe tbody tr th {\n",
       "        vertical-align: top;\n",
       "    }\n",
       "</style>\n",
       "<table border=\"1\" class=\"dataframe\">\n",
       "  <thead>\n",
       "    <tr>\n",
       "      <th></th>\n",
       "      <th></th>\n",
       "      <th></th>\n",
       "      <th colspan=\"8\" halign=\"left\">Age</th>\n",
       "    </tr>\n",
       "    <tr>\n",
       "      <th></th>\n",
       "      <th></th>\n",
       "      <th></th>\n",
       "      <th>count</th>\n",
       "      <th>mean</th>\n",
       "      <th>std</th>\n",
       "      <th>min</th>\n",
       "      <th>25%</th>\n",
       "      <th>50%</th>\n",
       "      <th>75%</th>\n",
       "      <th>max</th>\n",
       "    </tr>\n",
       "    <tr>\n",
       "      <th>Pclass</th>\n",
       "      <th>Survived</th>\n",
       "      <th>Sex</th>\n",
       "      <th></th>\n",
       "      <th></th>\n",
       "      <th></th>\n",
       "      <th></th>\n",
       "      <th></th>\n",
       "      <th></th>\n",
       "      <th></th>\n",
       "      <th></th>\n",
       "    </tr>\n",
       "  </thead>\n",
       "  <tbody>\n",
       "    <tr>\n",
       "      <th rowspan=\"4\" valign=\"top\">1</th>\n",
       "      <th rowspan=\"2\" valign=\"top\">0</th>\n",
       "      <th>female</th>\n",
       "      <td>3.0</td>\n",
       "      <td>25.666667</td>\n",
       "      <td>24.006943</td>\n",
       "      <td>2.00</td>\n",
       "      <td>13.50</td>\n",
       "      <td>25.0</td>\n",
       "      <td>37.50</td>\n",
       "      <td>50.0</td>\n",
       "    </tr>\n",
       "    <tr>\n",
       "      <th>male</th>\n",
       "      <td>77.0</td>\n",
       "      <td>43.006494</td>\n",
       "      <td>13.213951</td>\n",
       "      <td>18.00</td>\n",
       "      <td>37.00</td>\n",
       "      <td>39.0</td>\n",
       "      <td>52.00</td>\n",
       "      <td>71.0</td>\n",
       "    </tr>\n",
       "    <tr>\n",
       "      <th rowspan=\"2\" valign=\"top\">1</th>\n",
       "      <th>female</th>\n",
       "      <td>89.0</td>\n",
       "      <td>34.808989</td>\n",
       "      <td>12.366447</td>\n",
       "      <td>14.00</td>\n",
       "      <td>24.00</td>\n",
       "      <td>35.0</td>\n",
       "      <td>42.00</td>\n",
       "      <td>63.0</td>\n",
       "    </tr>\n",
       "    <tr>\n",
       "      <th>male</th>\n",
       "      <td>45.0</td>\n",
       "      <td>36.331556</td>\n",
       "      <td>14.064510</td>\n",
       "      <td>0.92</td>\n",
       "      <td>28.00</td>\n",
       "      <td>36.0</td>\n",
       "      <td>45.00</td>\n",
       "      <td>80.0</td>\n",
       "    </tr>\n",
       "    <tr>\n",
       "      <th rowspan=\"4\" valign=\"top\">2</th>\n",
       "      <th rowspan=\"2\" valign=\"top\">0</th>\n",
       "      <th>female</th>\n",
       "      <td>6.0</td>\n",
       "      <td>36.000000</td>\n",
       "      <td>12.915107</td>\n",
       "      <td>24.00</td>\n",
       "      <td>26.25</td>\n",
       "      <td>32.5</td>\n",
       "      <td>42.50</td>\n",
       "      <td>57.0</td>\n",
       "    </tr>\n",
       "    <tr>\n",
       "      <th>male</th>\n",
       "      <td>91.0</td>\n",
       "      <td>33.032967</td>\n",
       "      <td>11.734281</td>\n",
       "      <td>16.00</td>\n",
       "      <td>25.00</td>\n",
       "      <td>30.0</td>\n",
       "      <td>36.75</td>\n",
       "      <td>70.0</td>\n",
       "    </tr>\n",
       "    <tr>\n",
       "      <th rowspan=\"2\" valign=\"top\">1</th>\n",
       "      <th>female</th>\n",
       "      <td>70.0</td>\n",
       "      <td>28.107143</td>\n",
       "      <td>12.579283</td>\n",
       "      <td>2.00</td>\n",
       "      <td>22.00</td>\n",
       "      <td>28.5</td>\n",
       "      <td>34.75</td>\n",
       "      <td>55.0</td>\n",
       "    </tr>\n",
       "    <tr>\n",
       "      <th>male</th>\n",
       "      <td>17.0</td>\n",
       "      <td>17.548824</td>\n",
       "      <td>18.785776</td>\n",
       "      <td>0.67</td>\n",
       "      <td>1.00</td>\n",
       "      <td>8.0</td>\n",
       "      <td>31.00</td>\n",
       "      <td>62.0</td>\n",
       "    </tr>\n",
       "    <tr>\n",
       "      <th rowspan=\"4\" valign=\"top\">3</th>\n",
       "      <th rowspan=\"2\" valign=\"top\">0</th>\n",
       "      <th>female</th>\n",
       "      <td>72.0</td>\n",
       "      <td>23.861111</td>\n",
       "      <td>11.192371</td>\n",
       "      <td>2.00</td>\n",
       "      <td>18.00</td>\n",
       "      <td>24.0</td>\n",
       "      <td>29.25</td>\n",
       "      <td>48.0</td>\n",
       "    </tr>\n",
       "    <tr>\n",
       "      <th>male</th>\n",
       "      <td>300.0</td>\n",
       "      <td>26.333333</td>\n",
       "      <td>10.371473</td>\n",
       "      <td>1.00</td>\n",
       "      <td>22.00</td>\n",
       "      <td>24.0</td>\n",
       "      <td>30.00</td>\n",
       "      <td>74.0</td>\n",
       "    </tr>\n",
       "    <tr>\n",
       "      <th rowspan=\"2\" valign=\"top\">1</th>\n",
       "      <th>female</th>\n",
       "      <td>72.0</td>\n",
       "      <td>20.951389</td>\n",
       "      <td>10.153023</td>\n",
       "      <td>0.75</td>\n",
       "      <td>16.75</td>\n",
       "      <td>24.0</td>\n",
       "      <td>24.00</td>\n",
       "      <td>63.0</td>\n",
       "    </tr>\n",
       "    <tr>\n",
       "      <th>male</th>\n",
       "      <td>47.0</td>\n",
       "      <td>22.604681</td>\n",
       "      <td>10.386563</td>\n",
       "      <td>0.42</td>\n",
       "      <td>19.50</td>\n",
       "      <td>24.0</td>\n",
       "      <td>29.00</td>\n",
       "      <td>45.0</td>\n",
       "    </tr>\n",
       "  </tbody>\n",
       "</table>\n",
       "</div>"
      ],
      "text/plain": [
       "                          Age                                            \\\n",
       "                        count       mean        std    min    25%   50%   \n",
       "Pclass Survived Sex                                                       \n",
       "1      0        female    3.0  25.666667  24.006943   2.00  13.50  25.0   \n",
       "                male     77.0  43.006494  13.213951  18.00  37.00  39.0   \n",
       "       1        female   89.0  34.808989  12.366447  14.00  24.00  35.0   \n",
       "                male     45.0  36.331556  14.064510   0.92  28.00  36.0   \n",
       "2      0        female    6.0  36.000000  12.915107  24.00  26.25  32.5   \n",
       "                male     91.0  33.032967  11.734281  16.00  25.00  30.0   \n",
       "       1        female   70.0  28.107143  12.579283   2.00  22.00  28.5   \n",
       "                male     17.0  17.548824  18.785776   0.67   1.00   8.0   \n",
       "3      0        female   72.0  23.861111  11.192371   2.00  18.00  24.0   \n",
       "                male    300.0  26.333333  10.371473   1.00  22.00  24.0   \n",
       "       1        female   72.0  20.951389  10.153023   0.75  16.75  24.0   \n",
       "                male     47.0  22.604681  10.386563   0.42  19.50  24.0   \n",
       "\n",
       "                                     \n",
       "                          75%   max  \n",
       "Pclass Survived Sex                  \n",
       "1      0        female  37.50  50.0  \n",
       "                male    52.00  71.0  \n",
       "       1        female  42.00  63.0  \n",
       "                male    45.00  80.0  \n",
       "2      0        female  42.50  57.0  \n",
       "                male    36.75  70.0  \n",
       "       1        female  34.75  55.0  \n",
       "                male    31.00  62.0  \n",
       "3      0        female  29.25  48.0  \n",
       "                male    30.00  74.0  \n",
       "       1        female  24.00  63.0  \n",
       "                male    29.00  45.0  "
      ]
     },
     "execution_count": 19,
     "metadata": {},
     "output_type": "execute_result"
    }
   ],
   "source": [
    "# use groupby() to get descriptive statistics on class, suvival and sex\n",
    "print('\\n')\n",
    "print(\"Descriptive Statistics based on Class, Survived and Gender:\")\n",
    "survival_stats.groupby(['Pclass','Survived','Sex']).describe()"
   ]
  },
  {
   "cell_type": "markdown",
   "metadata": {},
   "source": [
    "This table represents the continuous variable characteristics of the passenger survival data, looking specifically at passenger class, age, and survival status. As you can see, within the 1st class the avg. age among survivors was 35 for women and 36 for men. Among 2nd class survivors the avg among survivors was 28 for women and 17 for men. For the 3rd class, avg age among women was 21 and 23 for men."
   ]
  },
  {
   "cell_type": "markdown",
   "metadata": {},
   "source": [
    "# Question 1\n",
    "\n",
    "### Were socio-economic status and gender a function of survival?"
   ]
  },
  {
   "cell_type": "code",
   "execution_count": 20,
   "metadata": {
    "collapsed": true
   },
   "outputs": [],
   "source": [
    "# Use the groupby function that returns the survival rate based on gender and passenger class. \n",
    "# Returns survival rate/percentage of sex and class\n",
    "def survival_rate(Pclass, Sex):\n",
    "    total = survival_stats.groupby(['Pclass', 'Sex']).size()[Pclass,Sex].astype('float')\n",
    "    survived_gender = \\\n",
    "        survival_stats.groupby(['Pclass','Survived','Sex']).size()[Pclass,1,Sex].astype('float')\n",
    "    survived_gender_pct = (survived_gender / total * 100).round(1)\n",
    "    \n",
    "    return survived_gender_pct"
   ]
  },
  {
   "cell_type": "code",
   "execution_count": 21,
   "metadata": {
    "collapsed": false
   },
   "outputs": [
    {
     "name": "stdout",
     "output_type": "stream",
     "text": [
      "\n",
      "\n",
      "Survival Rate as a function of a passengers gender and socio-economic status\n",
      "\n",
      "\n",
      "1st Class: male survival rate: 36.9%\n",
      "1st Class: female survival rate: 96.7%\n",
      "\n",
      "\n",
      "2nd Class: male survival rate: 15.7%\n",
      "2nd Class: female survival rate: 92.1%\n",
      "\n",
      "\n",
      "3rd Class: male survival rate: 13.5%\n",
      "3rd Class: female survival rate: 50.0%\n"
     ]
    }
   ],
   "source": [
    "#Grouped by class, survival and sex\n",
    "print ('\\n')\n",
    "print (\"Survival Rate as a function of a passengers gender and socio-economic status\")\n",
    "print ('\\n')\n",
    "print ('1st Class: male survival rate: {}%'.format(survival_rate(1,'male')))\n",
    "print ('1st Class: female survival rate: {}%'.format(survival_rate(1,'female')))\n",
    "\n",
    "print ('\\n')\n",
    "print ('2nd Class: male survival rate: {}%'.format(survival_rate(2,'male')))\n",
    "print ('2nd Class: female survival rate: {}%'.format(survival_rate(2,'female')))\n",
    "\n",
    "print ('\\n')\n",
    "print ('3rd Class: male survival rate: {}%'.format(survival_rate(3,'male')))\n",
    "print ('3rd Class: female survival rate: {}%'.format(survival_rate(3,'female')))"
   ]
  },
  {
   "cell_type": "markdown",
   "metadata": {},
   "source": [
    "This table represents the survival rate ordered by class and gender. As you can see, the 1st & 2nd class women had the highest survival rate of 96.74% and 92.11%, respectively. The drop in survival rate between the 2nd and class women was quite significant, however, the 2nd and 3rd class men had the lowest survival rate of 15.74% and 13.54%, respectively."
   ]
  },
  {
   "cell_type": "code",
   "execution_count": 22,
   "metadata": {
    "collapsed": false
   },
   "outputs": [
    {
     "data": {
      "text/plain": [
       "<matplotlib.text.Text at 0x11ce31eb8>"
      ]
     },
     "execution_count": 22,
     "metadata": {},
     "output_type": "execute_result"
    },
    {
     "data": {
      "image/png": "[encoded data removed]",
      "text/plain": [
       "<matplotlib.figure.Figure at 0x11fc6b278>"
      ]
     },
     "metadata": {},
     "output_type": "display_data"
    }
   ],
   "source": [
    "#Grouped by class, survival and sex\n",
    "g = sns.factorplot(x=\"Sex\", y=\"Survived\", hue=\"Pclass\", data=survival_stats, kind=\"bar\", ci=None , palette='rainbow', size=5)\n",
    "# Fix up the labels\n",
    "(g.set_axis_labels('', 'Survival Rate')\n",
    "     .set_xticklabels([\"Men\", \"Women\"])\n",
    "     .set_titles(\"Class {col_name}\")\n",
    "     .set(ylim=(0, 1))\n",
    "     .despine(left=True, bottom=True)) \n",
    "\n",
    "g.fig.subplots_adjust(top=0.9)\n",
    "g.fig.suptitle('Survival Rate as a function of Gender & Class', fontsize=14)"
   ]
  },
  {
   "cell_type": "markdown",
   "metadata": {},
   "source": [
    "This visualization is representing the survival rate based on a passenger's gender and class. As you can see, men in general had less than a 40% chance of survival while a 1st and 2nd class woman had higher than a 93% chance of survival."
   ]
  },
  {
   "cell_type": "markdown",
   "metadata": {},
   "source": [
    "# Question 2\n",
    "\n",
    "### Did women and children have a better chance of survival?"
   ]
  },
  {
   "cell_type": "code",
   "execution_count": 23,
   "metadata": {
    "collapsed": false
   },
   "outputs": [
    {
     "name": "stdout",
     "output_type": "stream",
     "text": [
      "\n",
      "\n",
      "Survival Statistics including Children:\n",
      "\n",
      "\n",
      "Category  Survived\n",
      "Child     0            52\n",
      "          1            61\n",
      "Man       0           433\n",
      "          1            86\n",
      "Woman     0            64\n",
      "          1           193\n",
      "dtype: int64\n",
      "\n",
      "\n",
      "Survival Count including Children: \n",
      "\n",
      "\n"
     ]
    },
    {
     "data": {
      "image/png": "[encoded data removed]",
      "text/plain": [
       "<matplotlib.figure.Figure at 0x11cca8be0>"
      ]
     },
     "metadata": {},
     "output_type": "display_data"
    }
   ],
   "source": [
    "# Create a categorical column\n",
    "survival_stats.loc[\n",
    "    ((survival_stats['Sex'] == 'female') & \n",
    "     (survival_stats['Age'] >= 18)),\n",
    "     'Category'] = 'Woman'\n",
    "\n",
    "survival_stats.loc[\n",
    "    ((survival_stats['Sex'] == 'male') & \n",
    "    (survival_stats['Age'] >= 18) ),\n",
    "    'Category'] = 'Man'\n",
    "\n",
    "survival_stats.loc[\n",
    "    (survival_stats['Age'] < 18),\n",
    "    'Category'] = 'Child'\n",
    "\n",
    "#Use groupby() to get the total count based on the Category and Survived data\n",
    "print('\\n')\n",
    "print('Survival Statistics including Children:')\n",
    "print('\\n')\n",
    "print (survival_stats.groupby(['Category','Survived']).size())\n",
    "\n",
    "print('\\n')\n",
    "print('Survival Count including Children: ')\n",
    "print('\\n')\n",
    "#Comparison graph of survival count between Men, Women and Children\n",
    "g = sns.factorplot('Survived', col='Category', data=survival_stats, kind='count', size=5,alpha=.8,palette='Paired')\n",
    "g.fig.subplots_adjust(top=0.9)\n",
    "(g.set_axis_labels('Survived', 'Passenger Count')).set_xticklabels([\"No\", \"Yes\"])\n",
    "\n",
    "titles = ['Men', 'Women', 'Children']\n",
    "for ax, title in zip(g.axes.flat, titles):\n",
    "    ax.set_title(title)"
   ]
  },
  {
   "cell_type": "markdown",
   "metadata": {},
   "source": [
    "This is a visualization of survival count as a function of gender and age, paying special attention to children under 18 years of age. As you can see, children had a 46% chance of survival, most likely due to the fact most where located in the 3rd class and perhaps didn't have enough time to get to the life boats."
   ]
  },
  {
   "cell_type": "markdown",
   "metadata": {},
   "source": [
    "# Conclusion\n",
    "\n",
    "The results of the analysis indicate that a higher socio-economic status (ie.1st class) and a person's gender had the greatest impact on a passenger’s survival rate. Results indicate that a woman in the 1st class had the highest survival rate of 96% while a man located in the 3rd class (low socio-economic status) gave a passenger the lowest survival rate. \n",
    "\n",
    "A positive linear trend between Age and Pclass was present, most young adults and children were located in 3rd class with an average of age of 24, 2nd class had an average age of 29 and the 1st class had the oldest average age of 37. This makes sense if the 3rd class had a population of young, single men and young families immigrating to America from the UK. While the 1st class was most likely comprised of businessmen and older people who have had time to accumulate wealth. Also of note, the data indicates that Age was not a major factor in survival rate. In general, women and children, across all classes, had a higher survival rate than men but by no means did being a child or woman guarantee survival. \n",
    "\n",
    "Limitations of the dataset and further research possibilities are numerous. The missing data in the Cabin and Age columns were of particular concern. Although the imputation used for the age data is statistically sound option, there was no good option to fill in the gaps, so to speak, with the Cabin data. The Fare data is a particularly tough variable to deal with in this data set. Does the fare represent the individual price paid by each passenger or does it represent the price a person as a whole-which might include more than 1 ticket bought for people traveling together (such as a family)? Is there any information on the ticket that could be of use in answering whether or not a person paid for more than one ticket? Finally, the next step would be to input the data into a logistic regression model to predict the classification between survival and deceased passengers.\n",
    "\n",
    "The sinking of the RMS Titanic has always fascinated me because it has had such a deep impact on human kind. It taught us that there is no such thing as infallible engineering; safety precautions are a necessity not a luxury. Above all, live your best life because you never what lies ahead just beyond the horizon.\n"
   ]
  },
  {
   "cell_type": "markdown",
   "metadata": {},
   "source": [
    "### References\n",
    "\n",
    "McKinney,Wes.(2013).Python for Data Science. pg. 245-246"
   ]
  }
 ],
 "metadata": {
  "kernelspec": {
   "display_name": "Python 3",
   "language": "python",
   "name": "python3"
  },
  "language_info": {
   "codemirror_mode": {
    "name": "ipython",
    "version": 3
   },
   "file_extension": ".py",
   "mimetype": "text/x-python",
   "name": "python",
   "nbconvert_exporter": "python",
   "pygments_lexer": "ipython3",
   "version": "3.6.0"
  }
 },
 "nbformat": 4,
 "nbformat_minor": 2
}
