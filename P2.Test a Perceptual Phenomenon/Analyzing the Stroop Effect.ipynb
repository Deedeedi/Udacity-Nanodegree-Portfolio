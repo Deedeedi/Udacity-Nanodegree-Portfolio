{
 "cells": [
  {
   "cell_type": "markdown",
   "metadata": {},
   "source": [
    "# Analyzing the Stroop Effect\n",
    "\n",
    "**Author: Savahnna L Cunningham**\n",
    "\n",
    "**Date: September 14, 2017**"
   ]
  },
  {
   "cell_type": "markdown",
   "metadata": {},
   "source": [
    "## Background Information\n",
    "\n",
    "In a Stroop experiment, participants are presented with a list of words, with each word displayed in a color of ink. The participant’s task is to say out loud the color of the ink in which the word is printed. The task has two conditions: a congruent words condition, and an incongruent words condition. In the congruent words condition, the words being displayed are color words whose names match the colors in which they are printed: for example RED, BLUE. In the incongruent words condition, the words displayed are color words whose names do not match the colors in which they are printed: for example PURPLE, ORANGE. In each case, we measure the time it takes to name the ink colors in equally sized lists. Each participant will go through and record a time from each condition."
   ]
  },
  {
   "cell_type": "markdown",
   "metadata": {},
   "source": [
    "## 1. \n",
    "\n",
    "#### What is the independent variable? \n",
    "\n",
    "The independent variable in this experiment is whether the word name and font color were the same or different.\n",
    "\n",
    "#### What is the dependent variable?\n",
    "\n",
    "The dependent variable is the reaction time (RT) of the participant to name the font color of the word. "
   ]
  },
  {
   "cell_type": "markdown",
   "metadata": {},
   "source": [
    "## 2.  \n",
    "#### What kind of statistical test do you expect to perform? Justify your choices.\n",
    "\n",
    "The participants are asked to perform the tasks under both the congruent word condition and the incongruent word condition which means the same participant is exposed to two conditions and tested for each, therefore meeting the criteria for a \"repeated-measures\" statistical test [2&3]. Assuming that the population data has a normal distribution, I expect to perform a Paired T-Test, which is carried out when you are collecting data twice from the same group, person, item or thing [5]. I will also use a t-score to test the Null Hypothesis because my sample size is below 30 and has an unknown population standard deviation.\n",
    "\n",
    "\n",
    "#### What is an appropriate set of hypotheses for this task?\n",
    "\n",
    "Ho (Null Hypothesis): Mean reaction time for the congruent sample will be greater than or equal to the mean reaction time for the incongruent sample. \n",
    "\n",
    "Ha (Alternate Hypothesis): Mean of the congruent reaction time will be less than the mean incongruent reaction time sample.\n",
    "\n",
    "                H0: μC ≥ μI\n",
    "\n",
    "                HA: μC < μI      where μC = congruent sample and μI = incongruent sample\n"
   ]
  },
  {
   "cell_type": "markdown",
   "metadata": {},
   "source": [
    "## 3. \n",
    "Report some descriptive statistics regarding this dataset. Include at least one measure of central tendency and at least one measure of variability. The name of the data file is 'stroopdata.csv'."
   ]
  },
  {
   "cell_type": "code",
   "execution_count": 219,
   "metadata": {
    "collapsed": true
   },
   "outputs": [],
   "source": [
    "import pandas as pd\n",
    "import numpy as np\n",
    "import matplotlib.pyplot as plt\n",
    "import seaborn as sns\n",
    "from scipy import stats\n",
    "%matplotlib inline"
   ]
  },
  {
   "cell_type": "code",
   "execution_count": 220,
   "metadata": {
    "collapsed": false
   },
   "outputs": [],
   "source": [
    "train = pd.read_csv('stroopdata.csv')"
   ]
  },
  {
   "cell_type": "code",
   "execution_count": 221,
   "metadata": {
    "collapsed": false
   },
   "outputs": [
    {
     "name": "stdout",
     "output_type": "stream",
     "text": [
      "<class 'pandas.core.frame.DataFrame'>\n",
      "RangeIndex: 24 entries, 0 to 23\n",
      "Data columns (total 2 columns):\n",
      "Congruent      24 non-null float64\n",
      "Incongruent    24 non-null float64\n",
      "dtypes: float64(2)\n",
      "memory usage: 464.0 bytes\n"
     ]
    }
   ],
   "source": [
    "train.info()"
   ]
  },
  {
   "cell_type": "code",
   "execution_count": 222,
   "metadata": {
    "collapsed": false
   },
   "outputs": [
    {
     "name": "stdout",
     "output_type": "stream",
     "text": [
      "\n",
      "\n",
      "Stroop Data Descriptive Statistics\n"
     ]
    },
    {
     "data": {
      "text/html": [
       "<div>\n",
       "<style>\n",
       "    .dataframe thead tr:only-child th {\n",
       "        text-align: right;\n",
       "    }\n",
       "\n",
       "    .dataframe thead th {\n",
       "        text-align: left;\n",
       "    }\n",
       "\n",
       "    .dataframe tbody tr th {\n",
       "        vertical-align: top;\n",
       "    }\n",
       "</style>\n",
       "<table border=\"1\" class=\"dataframe\">\n",
       "  <thead>\n",
       "    <tr style=\"text-align: right;\">\n",
       "      <th></th>\n",
       "      <th>Congruent</th>\n",
       "      <th>Incongruent</th>\n",
       "    </tr>\n",
       "  </thead>\n",
       "  <tbody>\n",
       "    <tr>\n",
       "      <th>count</th>\n",
       "      <td>24.000000</td>\n",
       "      <td>24.000000</td>\n",
       "    </tr>\n",
       "    <tr>\n",
       "      <th>mean</th>\n",
       "      <td>14.051125</td>\n",
       "      <td>22.015917</td>\n",
       "    </tr>\n",
       "    <tr>\n",
       "      <th>std</th>\n",
       "      <td>3.559358</td>\n",
       "      <td>4.797057</td>\n",
       "    </tr>\n",
       "    <tr>\n",
       "      <th>min</th>\n",
       "      <td>8.630000</td>\n",
       "      <td>15.687000</td>\n",
       "    </tr>\n",
       "    <tr>\n",
       "      <th>25%</th>\n",
       "      <td>11.895250</td>\n",
       "      <td>18.716750</td>\n",
       "    </tr>\n",
       "    <tr>\n",
       "      <th>50%</th>\n",
       "      <td>14.356500</td>\n",
       "      <td>21.017500</td>\n",
       "    </tr>\n",
       "    <tr>\n",
       "      <th>75%</th>\n",
       "      <td>16.200750</td>\n",
       "      <td>24.051500</td>\n",
       "    </tr>\n",
       "    <tr>\n",
       "      <th>max</th>\n",
       "      <td>22.328000</td>\n",
       "      <td>35.255000</td>\n",
       "    </tr>\n",
       "  </tbody>\n",
       "</table>\n",
       "</div>"
      ],
      "text/plain": [
       "       Congruent  Incongruent\n",
       "count  24.000000    24.000000\n",
       "mean   14.051125    22.015917\n",
       "std     3.559358     4.797057\n",
       "min     8.630000    15.687000\n",
       "25%    11.895250    18.716750\n",
       "50%    14.356500    21.017500\n",
       "75%    16.200750    24.051500\n",
       "max    22.328000    35.255000"
      ]
     },
     "execution_count": 222,
     "metadata": {},
     "output_type": "execute_result"
    }
   ],
   "source": [
    "#import data set\n",
    "print(\"\\n\")\n",
    "print(\"Stroop Data Descriptive Statistics\")\n",
    "train.describe()"
   ]
  },
  {
   "cell_type": "markdown",
   "metadata": {},
   "source": [
    "Note: The mean average in the summary table refers to the sample mean, which is different than the hypothetical average μ."
   ]
  },
  {
   "cell_type": "code",
   "execution_count": 225,
   "metadata": {
    "collapsed": false
   },
   "outputs": [
    {
     "name": "stdout",
     "output_type": "stream",
     "text": [
      "\n",
      "\n",
      "Stroop Data Descriptive Statistics\n",
      "\n",
      "\n",
      "       Congruent  Incongruent  Difference\n",
      "count  24.000000    24.000000   24.000000\n",
      "mean   14.051125    22.015917   -7.964792\n",
      "std     3.559358     4.797057    4.864827\n",
      "min     8.630000    15.687000  -21.919000\n",
      "25%    11.895250    18.716750  -10.258500\n",
      "50%    14.356500    21.017500   -7.666500\n",
      "75%    16.200750    24.051500   -3.645500\n",
      "max    22.328000    35.255000   -1.950000\n",
      "\n",
      "\n"
     ]
    }
   ],
   "source": [
    "# Parse csv into pandas data structures\n",
    "congruent_data = train[\"Congruent\"]\n",
    "incongruent_data = train[\"Incongruent\"]\n",
    "\n",
    "# Create a Series for the difference between the conditions\n",
    "train[\"Difference\"] = train[\"Congruent\"] - train[\"Incongruent\"]\n",
    "\n",
    "print(\"\\n\")\n",
    "print (\"Stroop Data Descriptive Statistics\")\n",
    "print(\"\\n\")\n",
    "print (train.describe())\n",
    "print(\"\\n\")"
   ]
  },
  {
   "cell_type": "code",
   "execution_count": 227,
   "metadata": {
    "collapsed": false
   },
   "outputs": [
    {
     "name": "stdout",
     "output_type": "stream",
     "text": [
      "t-value = 8.02\n",
      "p-value = 0.00000004\n"
     ]
    }
   ],
   "source": [
    "# Calculations for a sample t-value[7] \n",
    "tvalueResults = stats.ttest_rel(incongruent_data, congruent_data)\n",
    "tstat = tvalueResults[0]\n",
    "pvalue = tvalueResults[1]\n",
    "print (\"t-value = \" + '%.2f' % tstat) \n",
    "print (\"p-value = \" + '%.8f' % pvalue) "
   ]
  },
  {
   "cell_type": "markdown",
   "metadata": {},
   "source": [
    "## 4.\n",
    "Provide one or two visualizations that show the distribution of the sample data. Write one or two sentences noting what you observe about the plot or plots."
   ]
  },
  {
   "cell_type": "code",
   "execution_count": 228,
   "metadata": {
    "collapsed": false
   },
   "outputs": [
    {
     "data": {
      "text/plain": [
       "<matplotlib.text.Text at 0x11be500f0>"
      ]
     },
     "execution_count": 228,
     "metadata": {},
     "output_type": "execute_result"
    },
    {
     "data": {
      "image/png": "[encoded data removed]",
      "text/plain": [
       "<matplotlib.figure.Figure at 0x11e97ba58>"
      ]
     },
     "metadata": {},
     "output_type": "display_data"
    }
   ],
   "source": [
    "#Distribution Congruent Data\n",
    "sns.set_style('whitegrid')\n",
    "g = sns.distplot(train['Congruent'],rug=True,color=\"#160177\",bins=10,kde=False)\n",
    "g.axes.set_title('Histogram of Congruent Sample Data', fontsize=13)\n",
    "plt.xlabel(\"Congruent Reaction Time (seconds)\")\n",
    "plt.ylabel(\"Frequency\")"
   ]
  },
  {
   "cell_type": "markdown",
   "metadata": {},
   "source": [
    "Visualization of the relatively normal distribution of the congruent reaction times. As you can see most participants completed the test in ~15 seconds."
   ]
  },
  {
   "cell_type": "code",
   "execution_count": 215,
   "metadata": {
    "collapsed": false,
    "scrolled": true
   },
   "outputs": [
    {
     "data": {
      "text/plain": [
       "<matplotlib.text.Text at 0x11e464f60>"
      ]
     },
     "execution_count": 215,
     "metadata": {},
     "output_type": "execute_result"
    },
    {
     "data": {
      "image/png": "[encoded data removed]",
      "text/plain": [
       "<matplotlib.figure.Figure at 0x11ea80400>"
      ]
     },
     "metadata": {},
     "output_type": "display_data"
    }
   ],
   "source": [
    "sns.set_style('whitegrid')\n",
    "g = sns.distplot(train['Incongruent'],rug=True,color=\"#160177\",bins=10,kde=False)\n",
    "g.axes.set_title('Histogram of Incongruent Sample Data', fontsize=13)\n",
    "plt.xlabel(\"Incongruent Reaction Time (seconds)\")\n",
    "plt.ylabel(\"Frequency\")"
   ]
  },
  {
   "cell_type": "markdown",
   "metadata": {},
   "source": [
    "Visualization of the right skewed distribution of the incongruent reaction times. As you can see from the graph, the majority of participants completed the test between 17.5-21 seconds with some outliers completing the test in ~35 seconds."
   ]
  },
  {
   "cell_type": "code",
   "execution_count": 239,
   "metadata": {
    "collapsed": false
   },
   "outputs": [
    {
     "data": {
      "image/png": "[encoded data removed]",
      "text/plain": [
       "<matplotlib.figure.Figure at 0x11f236278>"
      ]
     },
     "metadata": {},
     "output_type": "display_data"
    }
   ],
   "source": [
    "df = pd.read_csv('stroopdata.csv')\n",
    "\n",
    "#Histogram graph of the 2 conditions superimposed on the same graph\n",
    "title = 'Histogram of Both Conditions'\n",
    "g = df.plot(title=title, kind='hist', alpha= 0.5, bins=10,stacked=True)\n",
    "plt.xlabel('Reaction Time (seconds)')\n",
    "size = plt.axis([0,40,0,12])"
   ]
  },
  {
   "cell_type": "markdown",
   "metadata": {},
   "source": [
    "Histogram of the participants’ reactions times; notice the difference in reaction times between the incongruent and congruent conditions. From the visualization it appears to take the participants ~5 seconds longer to complete the incongruent test."
   ]
  },
  {
   "cell_type": "code",
   "execution_count": 217,
   "metadata": {
    "collapsed": false
   },
   "outputs": [
    {
     "data": {
      "text/plain": [
       "<matplotlib.text.Text at 0x118792860>"
      ]
     },
     "execution_count": 217,
     "metadata": {},
     "output_type": "execute_result"
    },
    {
     "data": {
      "image/png": "[encoded data removed]",
      "text/plain": [
       "<matplotlib.figure.Figure at 0x11eb152b0>"
      ]
     },
     "metadata": {},
     "output_type": "display_data"
    }
   ],
   "source": [
    "#histograph of the reaction time difference between the conditions\n",
    "sns.distplot(train['Difference'],rug=True,color=\"#16677c\",kde=False)\n",
    "plt.xlabel(\"Difference in Reaction Time (seconds)\")\n",
    "plt.ylabel(\"Frequency\")\n",
    "plt.title(\"Stroop Dataset: Reaction Time Difference\",fontsize=13)"
   ]
  },
  {
   "cell_type": "markdown",
   "metadata": {},
   "source": [
    "Visualization of the reaction time difference between the two conditions. "
   ]
  },
  {
   "cell_type": "markdown",
   "metadata": {},
   "source": [
    "## 5. \n",
    "Now, perform the statistical test and report the results. What is the confidence level and your critical statistic value? Do you reject the null hypothesis or fail to reject it? Come to a conclusion in terms of the experiment task. Did the results match up with your expectations?"
   ]
  },
  {
   "cell_type": "markdown",
   "metadata": {},
   "source": [
    "**Confidence Interval = 95%**\n",
    "\n",
    "**α = .05**\n",
    "\n",
    "**degrees of freedom = 23**\n",
    "\n",
    "**one-tailed critical statistic value = 1.714**\n",
    "\n",
    "**calculated t-value = 8.02**\n",
    " \n",
    "**p-value = 0.00000004** "
   ]
  },
  {
   "cell_type": "markdown",
   "metadata": {},
   "source": [
    "### Results"
   ]
  },
  {
   "cell_type": "markdown",
   "metadata": {},
   "source": [
    "A paired t-test was run on a sample of 24 participants to determine whether there was a statistically significant mean difference between the reaction time between the congruent vs. incongruent condition. Typically it takes participants longer to say the ink colors (22.02 ± 4.8 sec) than it does to read the words (14.05 ± 3.56 sec). At the 95% confidence level (α = .05) and 23 degrees of freedom, the critical statistic value for a one-tailed test is 1.714. The calculated t-value for the difference between the congruent and incongruent conditions is 8.02. The calculated t-value is greater than the critical t-value (t-table value). Additionally, the p-value is less than the alpha level: p < .05; therefore, the null hypothesis is rejected. Concluding there is sufficient evidence at the 95% Confidence Interval to support the alternate hypothesis that states it takes less time to read the word out loud than it does to say the color of ink the word is printed. \n",
    "\n",
    "In summary, the Stroop Experiment along with other studies show the reason for the reaction time delay is due to interfering signals in your brain that are completing for your attention.  Color is processed in an area of the brain called the Ventral Stream while active reading is processed in the Occipital and Temporal Lobes. Your attention filter cannot dampen your brain's instinct to read the word itself, thus making it difficult to name the font color [4].\n"
   ]
  },
  {
   "cell_type": "markdown",
   "metadata": {},
   "source": [
    "### References\n",
    "\n",
    "1. James, G., Witten, D., Hastie, T., & Tibshirani, R. (2013). An introduction to statistical learning: With applications in R.\n",
    "\n",
    "2. https://cyfar.org/types-statistical-tests\n",
    "\n",
    "3. https://statistics.laerd.com/stata-tutorials/paired-t-test-using-stata.php\n",
    "\n",
    "4. https://youtu.be/UAKAlP1B5WY\n",
    "\n",
    "5. http://www.statisticshowto.com/probability-and-statistics\n",
    "\n",
    "6. http://davidmlane.com/hyperstat/t_table.html\n",
    "\n",
    "7. https://docs.scipy.org/doc/scipy-0.14.0/reference/generated/scipy.stats.ttest_rel.html\n",
    "\n",
    "8. https://pandas.pydata.org/pandas-docs/stable/visualization.html"
   ]
  }
 ],
 "metadata": {
  "kernelspec": {
   "display_name": "Python 3",
   "language": "python",
   "name": "python3"
  },
  "language_info": {
   "codemirror_mode": {
    "name": "ipython",
    "version": 3
   },
   "file_extension": ".py",
   "mimetype": "text/x-python",
   "name": "python",
   "nbconvert_exporter": "python",
   "pygments_lexer": "ipython3",
   "version": "3.6.0"
  }
 },
 "nbformat": 4,
 "nbformat_minor": 2
}
