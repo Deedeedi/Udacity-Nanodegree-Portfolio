{
 "cells": [
  {
   "cell_type": "markdown",
   "metadata": {},
   "source": [
    "# Summary Report"
   ]
  },
  {
   "cell_type": "markdown",
   "metadata": {},
   "source": [
    "**Summary**\n",
    "\n",
    "Salt Lake City is located between two mountain ranges, the Oquirrh Mountains to the west and the Wasatch Mountains to the east. During the winter and summer seasons, the Salt Lake Valley is subject to metrological inversions, where colder air is trapped under a “lid” of warmer air. These inversions trap air pollutants within the valley, causing major health issues in the population. This analysis utilizes air quality data from the Environmental Protection Agency to discover Salt Lake City air quality trends from 1980 to present.\n",
    "\n",
    "**Design**\n",
    "\n",
    "As a resident of Salt Lake City for 20 years now, I know a couple of things about the “Inversion”. The first, Inversions always feel and look the worst in the winter, causing citizens to take notice of the problem more readily than in the summer months. And second, people have a very short-term memory.  Talking to people about my project, I heard from more than one person a conversation similar to this, ”I can’t wait to see what you discover. I don’t remember it (the Inversion) being this bad last year”, when in fact the current Inversion is nothing compared to the worst Inversion experienced in January of the previous year. The design of my Tableau story was simple in concept. The goal was to create a story that took the reader from a broad, yearly review of air quality index values to examining daily air quality index values through time.\n",
    "\n",
    "I chose bar charts to represent my time series data because I didn’t like the aesthetic of the area chart and it was easier to visualize the granularity of the Air Quality Index (AQI) values with the bar charts verses the line charts, especially when analyzing the individual pollutant values through time. Additionally, I didn’t like all the “white space” of the line charts, which left the bar charts as my go to visualization type. I decided on the stacked bar charts for the Monthly AQI values so save space and the data was easy to visualize. Plus, the people I had polled seemed really excited about being able to see the histogram change as a function of the pollutant/s they had chosen to query. The daily AQI value data is already available in the format I used for the story through the EPA website; I simply spliced multiple queries together to represent the continuous time series as it is seen on the slide.\n",
    "\n",
    "After collecting feedback I added a date range to the Monthly Air Quality Index slide title and gave better instructions on how to use the Pollutant Key to view the data. I changed the font size on many slides and made the text location consistent throughout the story. People were having trouble seeing the navigation tool bar at the top of the page because I used the “dots”. I switched to the “page numbers” and discovered it was a lot more intuitive for people to navigate through the story. Once the 2nd round of feedback was complete and I had fixed the navigation bar, titles, and text formatting, the only feedback I received were punctuation and spelling recommendations. \n",
    "\n",
    "**Feedback**\n",
    "\n",
    "Feedback has been positive from the inception of the project. People in Salt Lake City are concerned about air quality and were excited to understand more about the “Inversion”. \n",
    "\n",
    "Version 1\n",
    "\n",
    "•\t“Great job! I learned so much. It’s good to see the air quality has improved overall. By the way you miss spelled these words and you need a comma here.”\n",
    "\n",
    "•\t“The title in this slide could use a date range. Great project. I moved to Salt Lake City in 1985 and I remember how bad the Inversions where in this era (pointing to the red-orange blob of the 80s and 90s on the Daily slide).”\n",
    "\n",
    "•\t“Wow. It’s amazing what a difference smelting practices make to the air quality in the valley!”\n",
    "\n",
    "Version 2\n",
    "\n",
    "•\t“Cool project. I would just make sure all the text are the same font size and it bugs me that text on the map is on the top of the page while the other slides have the text on the bottom.\n",
    "\n",
    "•\t“Loved how you gave suggestions on how people can help prevent the Inversion from getting worse. You spelled mountain wrong in the Intro slide.”\n",
    "\n",
    "•\t“I like the change you made to the title (Monthly slide) I didn’t realize you could pick and choose the pollutants to examine last time.”\n",
    "\n",
    "•\t“I like the change in the navigation bar. It’s a lot more intuitive now.”\n",
    "\n",
    "Version 3\n",
    "\n",
    "•\t“I actually learned what the Inversion is and what pollutants are in it! Thanks for sharing this with me.”\n",
    "\n",
    "•\t“Capitalize Energy Star because it’s a trademark.”\n",
    "\n",
    "Version 4\n",
    "\n",
    "•\tAdded x-axis to the “Yearly Average” graph.\n",
    "\n",
    "•\tAdded legend to the “Monthly” graph.\n",
    "\n",
    "•\tReworded the key on the “Monthly” graph for intuitive use by reader.\n",
    "\n",
    "\n",
    "Resources: \n",
    "\n",
    "http://health.utah.gov/enviroepi/healthyhomes/epht/AirPollution_PublicHealth.pdf\n",
    "\n",
    "https://www.epa.gov/outdoor-air-quality-data\n",
    "\n",
    "\n",
    "Tableau Public Link\n",
    "\n",
    "https://public.tableau.com/views/Udacity_TableauProject_Final/Final_Presentation?:embed=y&:display_count=yes\n",
    "\n",
    "\n",
    "\n"
   ]
  }
 ],
 "metadata": {
  "kernelspec": {
   "display_name": "Python 3",
   "language": "python",
   "name": "python3"
  },
  "language_info": {
   "codemirror_mode": {
    "name": "ipython",
    "version": 3
   },
   "file_extension": ".py",
   "mimetype": "text/x-python",
   "name": "python",
   "nbconvert_exporter": "python",
   "pygments_lexer": "ipython3",
   "version": "3.6.0"
  }
 },
 "nbformat": 4,
 "nbformat_minor": 2
}
